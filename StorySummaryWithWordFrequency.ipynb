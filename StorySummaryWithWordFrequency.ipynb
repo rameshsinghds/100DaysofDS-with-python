{
 "cells": [
  {
   "cell_type": "code",
   "execution_count": 11,
   "metadata": {},
   "outputs": [],
   "source": [
    "import os\n",
    "import re\n",
    "import nltk\n",
    "nltk.download('punkt')\n",
    "nltk.download('stopwords')\n",
    "\n",
    "import numpy as np\n",
    "import pandas as pd\n",
    "from nltk.corpus import stopwords\n",
    "from nltk.tokenize import word_tokenize, sent_tokenize\n",
    "from nltk.stem.porter import *"
   ]
  },
  {
   "cell_type": "code",
   "execution_count": 12,
   "metadata": {},
   "outputs": [],
   "source": [
    "files = os.listdir(\"data/story_summary/stories_text_summarization_dataset_train/\")"
   ]
  },
  {
   "cell_type": "code",
   "execution_count": 13,
   "metadata": {},
   "outputs": [],
   "source": [
    "df = pd.DataFrame(columns=['content', 'summary'])"
   ]
  },
  {
   "cell_type": "code",
   "execution_count": 14,
   "metadata": {},
   "outputs": [],
   "source": [
    "contractions = { \n",
    "\"ain\\'t\": \"am not / are not / is not / has not / have not\",\n",
    "\"aren\\'t\": \"are not\",\n",
    "\"can\\'t\": \"cannot\",\n",
    "\"can\\'t\\'ve\": \"cannot have\",\n",
    "\"\\'cause\": \"because\",\n",
    "\"could\\'ve\": \"could have\",\n",
    "\"couldn\\'t\": \"could not\",\n",
    "\"couldn\\'t\\'ve\": \"could not have\",\n",
    "\"didn\\'t\": \"did not\",\n",
    "\"doesn\\'t\": \"does not\",\n",
    "\"don\\'t\": \"do not\",\n",
    "\"hadn\\'t\": \"had not\",\n",
    "\"hadn\\'t\\'ve\": \"had not have\",\n",
    "\"hasn\\'t\": \"has not\",\n",
    "\"haven\\'t\": \"have not\",\n",
    "\"he\\'d\": \"he had / he would\",\n",
    "\"he\\'d\\'ve\": \"he would have\",\n",
    "\"he\\'ll\": \"he shall / he will\",\n",
    "\"he\\'ll\\'ve\": \"he shall have / he will have\",\n",
    "\"he\\'s\": \"he has / he is\",\n",
    "\"how\\'d\": \"how did\",\n",
    "\"how\\'d\\'y\": \"how do you\",\n",
    "\"how\\'ll\": \"how will\",\n",
    "\"how\\'s\": \"how has / how is / how does\",\n",
    "\"I\\'d\": \"I had / I would\",\n",
    "\"I\\'d\\'ve\": \"I would have\",\n",
    "\"I\\'ll\": \"I shall / I will\",\n",
    "\"I\\'ll\\'ve\": \"I shall have / I will have\",\n",
    "\"I\\'m\": \"I am\",\n",
    "\"I\\'ve\": \"I have\",\n",
    "\"isn\\'t\": \"is not\",\n",
    "\"it\\'d\": \"it had / it would\",\n",
    "\"it\\'d\\'ve\": \"it would have\",\n",
    "\"it\\'ll\": \"it shall / it will\",\n",
    "\"it\\'ll\\'ve\": \"it shall have / it will have\",\n",
    "\"it\\'s\": \"it has / it is\",\n",
    "\"let\\'s\": \"let us\",\n",
    "\"ma\\'am\": \"madam\",\n",
    "\"mayn\\'t\": \"may not\",\n",
    "\"might\\'ve\": \"might have\",\n",
    "\"mightn\\'t\": \"might not\",\n",
    "\"mightn\\'t\\'ve\": \"might not have\",\n",
    "\"must\\'ve\": \"must have\",\n",
    "\"mustn\\'t\": \"must not\",\n",
    "\"mustn\\'t\\'ve\": \"must not have\",\n",
    "\"needn\\'t\": \"need not\",\n",
    "\"needn\\'t\\'ve\": \"need not have\",\n",
    "\"o\\'clock\": \"of the clock\",\n",
    "\"oughtn\\'t\": \"ought not\",\n",
    "\"oughtn\\'t\\'ve\": \"ought not have\",\n",
    "\"shan\\'t\": \"shall not\",\n",
    "\"sha\\'n\\'t\": \"shall not\",\n",
    "\"shan\\'t\\'ve\": \"shall not have\",\n",
    "\"she\\'d\": \"she had / she would\",\n",
    "\"she\\'d\\'ve\": \"she would have\",\n",
    "\"she\\'ll\": \"she shall / she will\",\n",
    "\"she\\'ll\\'ve\": \"she shall have / she will have\",\n",
    "\"she\\'s\": \"she has / she is\",\n",
    "\"should\\'ve\": \"should have\",\n",
    "\"shouldn\\'t\": \"should not\",\n",
    "\"shouldn\\'t\\'ve\": \"should not have\",\n",
    "\"so\\'ve\": \"so have\",\n",
    "\"so\\'s\": \"so as / so is\",\n",
    "\"that\\'d\": \"that would / that had\",\n",
    "\"that\\'d\\'ve\": \"that would have\",\n",
    "\"that\\'s\": \"that has / that is\",\n",
    "\"there\\'d\": \"there had / there would\",\n",
    "\"there\\'d\\'ve\": \"there would have\",\n",
    "\"there\\'s\": \"there is\",\n",
    "\"they\\'d\": \"they had / they would\",\n",
    "\"they\\'d\\'ve\": \"they would have\",\n",
    "\"they\\'ll\": \"they will\",\n",
    "\"they\\'ll\\'ve\": \"they shall have / they will have\",\n",
    "\"they\\'re\": \"they are\",\n",
    "\"they\\'ve\": \"they have\",\n",
    "\"to\\'ve\": \"to have\",\n",
    "\"wasn\\'t\": \"was not\",\n",
    "\"we\\'d\": \"we had / we would\",\n",
    "\"we\\'d\\'ve\": \"we would have\",\n",
    "\"we\\'ll\": \"we will\",\n",
    "\"we\\'ll\\'ve\": \"we will have\",\n",
    "\"we\\'re\": \"we are\",\n",
    "\"we\\'ve\": \"we have\",\n",
    "\"weren\\'t\": \"were not\",\n",
    "\"what\\'ll\": \"what shall / what will\",\n",
    "\"what\\'ll\\'ve\": \"what shall have / what will have\",\n",
    "\"what\\'re\": \"what are\",\n",
    "\"what\\'s\": \"what has / what is\",\n",
    "\"what\\'ve\": \"what have\",\n",
    "\"when\\'s\": \"when has / when is\",\n",
    "\"when\\'ve\": \"when have\",\n",
    "\"where\\'d\": \"where did\",\n",
    "\"where\\'s\": \"where has / where is\",\n",
    "\"where\\'ve\": \"where have\",\n",
    "\"who\\'ll\": \"who shall / who will\",\n",
    "\"who\\'ll\\'ve\": \"who shall have / who will have\",\n",
    "\"who\\'s\": \"who has / who is\",\n",
    "\"who\\'ve\": \"who have\",\n",
    "\"why\\'s\": \"why has / why is\",\n",
    "\"why\\'ve\": \"why have\",\n",
    "\"will\\'ve\": \"will have\",\n",
    "\"won\\'t\": \"will not\",\n",
    "\"won\\'t\\'ve\": \"will not have\",\n",
    "\"would\\'ve\": \"would have\",\n",
    "\"wouldn\\'t\": \"would not\",\n",
    "\"wouldn\\'t\\'ve\": \"would not have\",\n",
    "\"y\\'all\": \"you all\",\n",
    "\"y\\'all\\'d\": \"you all would\",\n",
    "\"y\\'all\\'d\\'ve\": \"you all would have\",\n",
    "\"y\\'all\\'re\": \"you all are\",\n",
    "\"y\\'all\\'ve\": \"you all have\",\n",
    "\"you\\'d\": \"you had / you would\",\n",
    "\"you\\'d\\'ve\": \"you would have\",\n",
    "\"you\\'ll\": \"you shall / you will\",\n",
    "\"you\\'ll\\'ve\": \"you shall have / you will have\",\n",
    "\"you\\'re\": \"you are\",\n",
    "\"you\\'ve\": \"you have\"\n",
    "}"
   ]
  },
  {
   "cell_type": "code",
   "execution_count": 15,
   "metadata": {},
   "outputs": [],
   "source": [
    "contractions_re = re.compile('(%s)' % '|'.join(contractions.keys()))\n",
    "def expand_contractions(s, contractions_dict=contractions):\n",
    "    def replace(match):\n",
    "        return contractions_dict[match.group(0)]\n",
    "    return re.sub(r\"[^a-zA-Z0-9 ]\", \"\", contractions_re.sub(replace, s))\n",
    "\n",
    "def correct_text(passage):\n",
    "    return [expand_contractions(i) for i in sent_tokenize(passage.lower())]"
   ]
  },
  {
   "cell_type": "code",
   "execution_count": 16,
   "metadata": {},
   "outputs": [],
   "source": [
    "for i,file_name in enumerate(files[:100]):\n",
    "    summary, content, next = \"\", \"\", False\n",
    "    with open(f'./data/story_summary/stories_text_summarization_dataset_train/{file_name}', 'r', encoding='utf-8') as file:\n",
    "        for line in file.readlines():\n",
    "            if len(line.replace(\"\\n\", \"\"))>0:\n",
    "                if line.find('@highlight')>=0:\n",
    "                    next=True\n",
    "                    continue\n",
    "                if next:\n",
    "                    summary += line.replace(\"@highlight\", \"\").replace(\"\\n\", \"\").strip().lower() + \". \"\n",
    "                else:\n",
    "                    next=False\n",
    "                    content += line.replace(\"\\n\", \"\").strip().lower()\n",
    "        df.loc[i] = {'content':correct_text(content), 'summary':summary}"
   ]
  },
  {
   "cell_type": "code",
   "execution_count": 18,
   "metadata": {},
   "outputs": [
    {
     "name": "stdout",
     "output_type": "stream",
     "text": [
      "Original Text:  ['it has  it is official us president barack obama wants lawmakers to weigh in on whether to use military force in syriaobama sent a letter to the heads of the house and senate on saturday night hours after announcing that he believes military action against syrian targets is the right step to take over the alleged use of chemical weaponsthe proposed legislation from obama asks congress to approve the use of military force to deter disrupt prevent and degrade the potential for future uses of chemical weapons or other weapons of mass destruction', 'it has  it is a step that is set to turn an international crisis into a fierce domestic political battlethere are key questions looming over the debate what did un weapons inspectors find in syria', 'what happens if congress votes no', 'and how will the syrian government reactin a televised address from the white house rose garden earlier saturday the president said he would take his case to congress not because he has to  but because he wants to', 'while i believe i have the authority to carry out this military action without specific congressional authorization i know that the country will be stronger if we take this course and our actions will be even more effective he said', 'we should have this debate because the issues are too big for business as usual', 'obama said top congressional leaders had agreed to schedule a debate when the body returns to washington on september 9 the senate foreign relations committee will hold a hearing over the matter on tuesday sen robert menendez saidtranscript read obamas full remarkssyrian crisis latest developmentsun', 'inspectors leave syriaobamas remarks came shortly after un inspectors left syria carrying evidence that will determine whether chemical weapons were used in an attack early last week in a damascus suburb', 'the aim of the game here the mandate is very clear  and that is to ascertain whether chemical weapons were used  and not by whom un spokesman martin nesirky told reporters on saturdaybut who used the weapons in the reported toxic gas attack in a damascus suburb on august 21 has been a key point of global debate over the syrian crisistop us officials have said there has  there is no doubt that the syrian government was behind it while syrian officials have denied responsibility and blamed jihadists fighting with the rebelsbritish and us intelligence reports say the attack involved chemical weapons but un officials have stressed the importance of waiting for an official report from inspectorsthe inspectors will share their findings with un secretarygeneral ban kimoon ban who has said he wants to wait until the un teams final report is completed before presenting it to the un security councilthe organization for the prohibition of chemical weapons which nine of the inspectors belong to said saturday that it could take up to three weeks to analyze the evidence they collected', 'it needs time to be able to analyze the information and the samples nesirky saidhe noted that ban has repeatedly said there is no alternative to a political solution to the crisis in syria and that a military solution is not an option', 'bergen  syria is a problem from hell for the usobama this menace must be confrontedobamas senior advisers have debated the next steps to take and the presidents comments saturday came amid mounting political pressure over the situation in syria', 'some us lawmakers have called for immediate action while others warn of stepping into what could become a quagmiresome global leaders have expressed support but the british parliaments vote against military action earlier this week was a blow to obamas hopes of getting strong backing from key nato allieson saturday obama proposed what he said would be a limited military action against syrian president bashar alassad', 'any military attack would not be openended or include us ground forces he saidsyrias alleged use of chemical weapons earlier this month is an assault on human dignity the president saida failure to respond with force obama argued  could lead to escalating use of chemical weapons or their proliferation to terrorist groups who would do our people harm', 'in a world with many dangers this menace must be confronted', 'syria missile strike what would happen nextmap us and allied assets around syriaobama decision came friday nighton friday night the president made a lastminute decision to consult lawmakerswhat will happen if they vote noit has  it is unclear', 'a senior administration official told cnn that obama has the authority to act without congress  even if congress rejects his request for authorization to use forceobama on saturday continued to shore up support for a strike on the alassad governmenthe spoke by phone with french president francois hollande before his rose garden speech', 'the two leaders agreed that the international community must deliver a resolute message to the assad regime  and others who would consider using chemical weapons  that these crimes are unacceptable and those who violate this international norm will be held accountable by the world the white house saidmeanwhile as uncertainty loomed over how congress would weigh in us military officials said they remained at the ready5 key assertions us intelligence report on syriasyria who wants what after chemical weapons horrorreactions mixed to obamas speecha spokesman for the syrian national coalition said that the opposition group was disappointed by obamas announcement', 'our fear now is that the lack of action could embolden the regime and they repeat his attacks in a more serious way said spokesman louay safi', 'so we are quite concerned', 'some members of congress applauded obamas decisionhouse speaker john boehner majority leader eric cantor majority whip kevin mccarthy and conference chair cathy mcmorris rodgers issued a statement saturday praising the president', 'under the constitution the responsibility to declare war lies with congress the republican lawmakers said', 'we are glad the president is seeking authorization for any military action in syria in response to serious substantive questions being raised', 'more than 160 legislators including 63 of obamas fellow democrats had signed letters calling for either a vote or at least a full debate before any us actionbritish prime minister david cameron whose own attempt to get lawmakers in his country to support military action in syria failed earlier this week responded to obamas speech in a twitter post saturday', 'i understand and support barack obamas position on syria cameron saidan influential lawmaker in russia  which has stood by syria and criticized the united states  had his own theory', 'the main reason obama is turning to the congress  the military operation did not get enough support either in the world among allies of the us or in the united states itself alexei pushkov chairman of the internationalaffairs committee of the russian state duma said in a twitter postin the united states scattered groups of antiwar protesters around the country took to the streets saturday', 'like many other americanswe are just tired of the united states getting involved and invading and bombing other countries said robin rosecrans who was among hundreds at a los angeles demonstrationwhat do syrias neighbors thinkwhy russia china iran stand by assadsyrias government unfazedafter obamas speech a military and political analyst on syrian state tv said obama is embarrassed that russia opposes military action against syria is crying for help for someone to come to his rescue and is facing two defeats  on the political and military levelssyrias prime minister appeared unfazed by the saberrattling', 'the syrian armys status is on maximum readiness and fingers are on the trigger to confront all challenges wael nader alhalqi said during a meeting with a delegation of syrian expatriates from italy according to a banner on syria state tv that was broadcast prior to obamas addressan anchor on syrian state television said obama appeared to be preparing for an aggression on syria based on repeated lies', 'a top syrian diplomat told the state television network that obama was facing pressure to take military action from israel turkey some arabs and rightwing extremists in the united states', 'i think he has done well by doing what cameron did in terms of taking the issue to parliament said bashar jaafari syrias ambassador to the united nationsboth obama and cameron he said climbed to the top of the tree and do not know how to get down', 'the syrian government has denied that it used chemical weapons in the august 21 attack saying that jihadists fighting with the rebels used them in an effort to turn global sentiments against itbritish intelligence had put the number of people killed in the attack at more than 350on saturday obama said all told well over 1000 people were murdered', 'us secretary of state john kerry on friday cited a death toll of 1429 more than 400 of them children', 'no explanation was offered for the discrepancyiran us military action in syria would spark disasteropinion why strikes in syria are a bad idea']\n",
      "Original Summary:  syrian official: obama climbed to the top of the tree, \"doesn't know how to get down\". obama sends a letter to the heads of the house and senate. obama to seek congressional approval on military action against syria. aim is to determine whether cw were used, not by whom, says u.n. spokesman. \n"
     ]
    }
   ],
   "source": [
    "print(\"Original Text: \", df.content[0])\n",
    "print(\"Original Summary: \", df.summary[0])"
   ]
  },
  {
   "cell_type": "code",
   "execution_count": 19,
   "metadata": {},
   "outputs": [],
   "source": [
    "def create_freq_table(text_string):\n",
    "    stopwords_list = set(stopwords.words('english'))\n",
    "    \n",
    "    words = word_tokenize(text_string)\n",
    "    ps = PorterStemmer()\n",
    "    freq_table = {}\n",
    "    \n",
    "    for word in words:\n",
    "        #stem word \n",
    "        word = ps.stem(word)\n",
    "        \n",
    "        #remove stopwords\n",
    "        if word in stopwords_list: \n",
    "            continue\n",
    "        elif word in freq_table:\n",
    "            freq_table[word] += 1\n",
    "        else:\n",
    "            freq_table[word] = 1\n",
    "            \n",
    "    return freq_table"
   ]
  },
  {
   "cell_type": "code",
   "execution_count": 56,
   "metadata": {},
   "outputs": [],
   "source": [
    "#extract sentences that are important based on the word frequency\n",
    "def generate_summary(sent_list):\n",
    "    article_word_freq = create_freq_table(\" \".join(sent_list))\n",
    "    imp_list = {}\n",
    "    for i, sentence in enumerate(sent_list):\n",
    "        value = 0\n",
    "        words = word_tokenize(sentence)\n",
    "        for word in words:\n",
    "            if word in article_word_freq.keys():\n",
    "                value += article_word_freq[word]\n",
    "        if(len(sentence)>0):\n",
    "            imp = value/len(sentence)\n",
    "        else:\n",
    "            imp = 0\n",
    "        imp_list[i] = imp\n",
    "    temp = pd.DataFrame({'sent':sent_list, 'imp':list(imp_list.values())})\n",
    "    return \". \".join(temp.sort_values(['imp'], ascending=0)[:5].sent)"
   ]
  },
  {
   "cell_type": "code",
   "execution_count": 48,
   "metadata": {},
   "outputs": [],
   "source": [
    "df['gen_summary'] = [generate_summary(sent_list) for sent_list in df.content]"
   ]
  },
  {
   "cell_type": "code",
   "execution_count": 54,
   "metadata": {},
   "outputs": [
    {
     "name": "stdout",
     "output_type": "stream",
     "text": [
      "syrian official: obama climbed to the top of the tree, \"doesn't know how to get down\". obama sends a letter to the heads of the house and senate. obama to seek congressional approval on military action against syria. aim is to determine whether cw were used, not by whom, says u.n. spokesman. \n",
      "\n",
      "no explanation was offered for the discrepancyiran us military action in syria would spark disasteropinion why strikes in syria are a bad idea. the syrian armys status is on maximum readiness and fingers are on the trigger to confront all challenges wael nader alhalqi said during a meeting with a delegation of syrian expatriates from italy according to a banner on syria state tv that was broadcast prior to obamas addressan anchor on syrian state television said obama appeared to be preparing for an aggression on syria based on repeated lies. a top syrian diplomat told the state television network that obama was facing pressure to take military action from israel turkey some arabs and rightwing extremists in the united states. some us lawmakers have called for immediate action while others warn of stepping into what could become a quagmiresome global leaders have expressed support but the british parliaments vote against military action earlier this week was a blow to obamas hopes of getting strong backing from key nato allieson saturday obama proposed what he said would be a limited military action against syrian president bashar alassad. and how will the syrian government reactin a televised address from the white house rose garden earlier saturday the president said he would take his case to congress not because he has to  but because he wants to\n"
     ]
    }
   ],
   "source": [
    "print(df.iloc[0].summary + \"\\n\")\n",
    "print(df.iloc[0].gen_summary)"
   ]
  },
  {
   "cell_type": "code",
   "execution_count": null,
   "metadata": {},
   "outputs": [],
   "source": []
  }
 ],
 "metadata": {
  "kernelspec": {
   "display_name": "Python 3",
   "language": "python",
   "name": "python3"
  },
  "language_info": {
   "codemirror_mode": {
    "name": "ipython",
    "version": 3
   },
   "file_extension": ".py",
   "mimetype": "text/x-python",
   "name": "python",
   "nbconvert_exporter": "python",
   "pygments_lexer": "ipython3",
   "version": "3.6.8"
  },
  "latex_envs": {
   "LaTeX_envs_menu_present": true,
   "autoclose": false,
   "autocomplete": true,
   "bibliofile": "biblio.bib",
   "cite_by": "apalike",
   "current_citInitial": 1,
   "eqLabelWithNumbers": true,
   "eqNumInitial": 1,
   "hotkeys": {
    "equation": "Ctrl-E",
    "itemize": "Ctrl-I"
   },
   "labels_anchors": false,
   "latex_user_defs": false,
   "report_style_numbering": false,
   "user_envs_cfg": false
  },
  "toc": {
   "base_numbering": 1,
   "nav_menu": {},
   "number_sections": true,
   "sideBar": true,
   "skip_h1_title": false,
   "title_cell": "Table of Contents",
   "title_sidebar": "Contents",
   "toc_cell": false,
   "toc_position": {},
   "toc_section_display": true,
   "toc_window_display": false
  }
 },
 "nbformat": 4,
 "nbformat_minor": 2
}
